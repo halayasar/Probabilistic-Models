{
 "cells": [
  {
   "cell_type": "code",
   "execution_count": null,
   "metadata": {
    "deletable": false,
    "editable": false,
    "nbgrader": {
     "cell_type": "code",
     "checksum": "add3e878a18820658cbaa557f790a42d",
     "grade": false,
     "grade_id": "cell-47f3437dbcd873ec",
     "locked": true,
     "schema_version": 3,
     "solution": false,
     "task": false
    }
   },
   "outputs": [],
   "source": [
    "import numpy as np"
   ]
  },
  {
   "cell_type": "markdown",
   "metadata": {
    "deletable": false,
    "editable": false,
    "nbgrader": {
     "cell_type": "markdown",
     "checksum": "005e963f021c450c2c71b060141f0e7c",
     "grade": false,
     "grade_id": "cell-a86b4fb9765bcfa8",
     "locked": true,
     "schema_version": 3,
     "solution": false,
     "task": false
    }
   },
   "source": [
    "# 4. Conditional Independence in Bayesian Networks (6 points)\n",
    "\n",
    "Consider the following Bayesian network:\n",
    "\n",
    "<img src=\"bn.png\" style=\"height:430px\" />\n",
    "\n",
    "<div class=\"alert alert-warning\">\n",
    "Indicate which of the following statements are true. $A \\perp B$ means A is independent of B, $A \\perp B \\mid C$ means A is independent of B given C. (1 point / answer).\n",
    "</div>\n",
    "\n",
    "Store `False` into the corresponding result variable if the answer must be false and `True` otherwise.\n",
    "\n",
    "*Hint: Read about **D-separation** and the **Bayes-ball algorithm** if you cannot intuitively solve these problems.* "
   ]
  },
  {
   "cell_type": "markdown",
   "metadata": {
    "deletable": false,
    "editable": false,
    "nbgrader": {
     "cell_type": "markdown",
     "checksum": "97ebb4f4bf061c664c021a5ce70dcaba",
     "grade": false,
     "grade_id": "cell-ab4ccbc380ed8584",
     "locked": true,
     "schema_version": 3,
     "solution": false,
     "task": false
    }
   },
   "source": [
    " 1. $S \\perp I$ ?\n",
    " 2. $L \\perp S$ ?\n",
    " 3. $E \\perp V$ ?\n",
    " 4. $V \\perp S \\mid P, I$ ?\n",
    " 5. $E \\perp P \\mid L$ ?\n",
    " 6. $I \\perp L \\mid P, O$ ?"
   ]
  },
  {
   "cell_type": "code",
   "execution_count": null,
   "metadata": {
    "deletable": false,
    "jupyter": {
     "outputs_hidden": true
    },
    "nbgrader": {
     "cell_type": "code",
     "checksum": "6a1a23a9f37d1955acf31b8b68812599",
     "grade": false,
     "grade_id": "cell-b2674b4fd61a5424",
     "locked": false,
     "schema_version": 3,
     "solution": true,
     "task": false
    }
   },
   "outputs": [],
   "source": [
    "# Provide either True or False as an answer\n",
    "results = {}\n",
    "results['4.1'] = None\n",
    "results['4.2'] = None\n",
    "results['4.3'] = None\n",
    "results['4.4'] = None\n",
    "results['4.5'] = None\n",
    "results['4.6'] = None\n",
    "\n",
    "# YOUR CODE HERE\n",
    "#raise NotImplementedError()\n",
    "\n",
    "results['4.1'] = False\n",
    "results['4.2'] = False\n",
    "results['4.3'] = False\n",
    "results['4.4'] = True\n",
    "results['4.5'] = True\n",
    "results['4.6'] = True"
   ]
  },
  {
   "cell_type": "code",
   "execution_count": null,
   "metadata": {
    "deletable": false,
    "editable": false,
    "nbgrader": {
     "cell_type": "code",
     "checksum": "5203aebd7d164cff76a08a642d7fa783",
     "grade": true,
     "grade_id": "cell-c3b644843fab77f4",
     "locked": true,
     "points": 1,
     "schema_version": 3,
     "solution": false,
     "task": false
    }
   },
   "outputs": [],
   "source": [
    "assert results.get(\"4.1\") is not None"
   ]
  },
  {
   "cell_type": "code",
   "execution_count": null,
   "metadata": {
    "deletable": false,
    "editable": false,
    "nbgrader": {
     "cell_type": "code",
     "checksum": "a109cd8d177b722fea26c4936c86c8e4",
     "grade": true,
     "grade_id": "cell-13f728a3f45423a1",
     "locked": true,
     "points": 1,
     "schema_version": 3,
     "solution": false,
     "task": false
    }
   },
   "outputs": [],
   "source": [
    "assert results.get(\"4.2\") is not None"
   ]
  },
  {
   "cell_type": "code",
   "execution_count": null,
   "metadata": {
    "deletable": false,
    "editable": false,
    "nbgrader": {
     "cell_type": "code",
     "checksum": "6c638790a20b813762493860bd52e5a5",
     "grade": true,
     "grade_id": "cell-bb6b5105e346f780",
     "locked": true,
     "points": 1,
     "schema_version": 3,
     "solution": false,
     "task": false
    }
   },
   "outputs": [],
   "source": [
    "assert results.get(\"4.3\") is not None"
   ]
  },
  {
   "cell_type": "code",
   "execution_count": null,
   "metadata": {
    "deletable": false,
    "editable": false,
    "nbgrader": {
     "cell_type": "code",
     "checksum": "7dca0786c11c27f14a79c790f50f618d",
     "grade": true,
     "grade_id": "cell-e17fd6fbd55cab1c",
     "locked": true,
     "points": 1,
     "schema_version": 3,
     "solution": false,
     "task": false
    }
   },
   "outputs": [],
   "source": [
    "assert results.get(\"4.4\") is not None"
   ]
  },
  {
   "cell_type": "code",
   "execution_count": null,
   "metadata": {
    "deletable": false,
    "editable": false,
    "nbgrader": {
     "cell_type": "code",
     "checksum": "bbc1d0c44a6472fadcae5568446f6f73",
     "grade": true,
     "grade_id": "cell-26465c26053f9953",
     "locked": true,
     "points": 1,
     "schema_version": 3,
     "solution": false,
     "task": false
    }
   },
   "outputs": [],
   "source": [
    "assert results.get(\"4.5\") is not None"
   ]
  },
  {
   "cell_type": "code",
   "execution_count": null,
   "metadata": {
    "deletable": false,
    "editable": false,
    "nbgrader": {
     "cell_type": "code",
     "checksum": "859e0a95625a5c41367b335082c7136f",
     "grade": true,
     "grade_id": "cell-4e281ffec32cf722",
     "locked": true,
     "points": 1,
     "schema_version": 3,
     "solution": false,
     "task": false
    }
   },
   "outputs": [],
   "source": [
    "assert results.get(\"4.6\") is not None"
   ]
  }
 ],
 "metadata": {
  "kernelspec": {
   "display_name": "Python 3 (ipykernel)",
   "language": "python",
   "name": "python3"
  },
  "language_info": {
   "codemirror_mode": {
    "name": "ipython",
    "version": 3
   },
   "file_extension": ".py",
   "mimetype": "text/x-python",
   "name": "python",
   "nbconvert_exporter": "python",
   "pygments_lexer": "ipython3",
   "version": "3.8.5"
  }
 },
 "nbformat": 4,
 "nbformat_minor": 4
}

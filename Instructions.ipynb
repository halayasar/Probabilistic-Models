{
 "cells": [
  {
   "cell_type": "markdown",
   "metadata": {
    "deletable": false,
    "editable": false,
    "nbgrader": {
     "cell_type": "markdown",
     "checksum": "08d34fcd95dcfc9d20d9a897549bc4e9",
     "grade": false,
     "grade_id": "cell-4e2239f339cf593f",
     "locked": true,
     "schema_version": 3,
     "solution": false,
     "task": false
    }
   },
   "source": [
    "# Inference in HMM\n",
    "## Problem Set 5 - Probabilistic Models UE\n",
    "\n",
    "---\n",
    "\n",
    "In this assignment, we will implement some of the common Hidden Markov Model inference algorithms, specifically filtering, smoothing, prediction, and decoding.\n",
    "\n",
    "**Questions?** Post them into the Problem Set Forum!\n",
    "\n",
    "## Submission\n",
    "\n",
    "**Due-Date:** see Moodle\n",
    " \n",
    "**Automatic Grading:** \n",
    "- **Store your results into the corresponding result variables or implement the provided function stubs**; otherwise, we will not grade your solution (i.e., we assign 0 points).\n",
    "- **Do not create new cells or delete existing ones.** Instead, replace 'YOUR ANSWER HERE' or '# YOUR CODE HERE' with your solution.\n",
    "    \n",
    "- **Submission:** As a ZIP-package via Moodle; the ZIP-package **must have the following structure**:\n",
    "    \n",
    "\n",
    "    + <student ID, (k + 8 digits), e.g. k01234567>.zip\n",
    "    |\n",
    "    +-- ps<problem set #>\n",
    "    |   +-- Instructions.ipynb\n",
    "    |   |-- Problem 1.ipynb\n",
    "    |   |-- ...\n",
    "    |   |-- Problem <# of problems>.ipynb\n",
    "    |   |-- <supplementary materials>\n",
    "    |   +-- ...\n",
    "    + "
   ]
  }
 ],
 "metadata": {
  "kernelspec": {
   "display_name": "Python 3",
   "language": "python",
   "name": "python3"
  },
  "language_info": {
   "codemirror_mode": {
    "name": "ipython",
    "version": 3
   },
   "file_extension": ".py",
   "mimetype": "text/x-python",
   "name": "python",
   "nbconvert_exporter": "python",
   "pygments_lexer": "ipython3",
   "version": "3.8.10"
  }
 },
 "nbformat": 4,
 "nbformat_minor": 2
}

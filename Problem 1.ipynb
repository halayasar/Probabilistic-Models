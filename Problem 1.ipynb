{
 "cells": [
  {
   "cell_type": "markdown",
   "metadata": {
    "deletable": false,
    "editable": false,
    "nbgrader": {
     "cell_type": "markdown",
     "checksum": "f424549610abdfc34eaa507ee40eeae0",
     "grade": false,
     "grade_id": "cell-ffe80879c1a9a913",
     "locked": true,
     "schema_version": 3,
     "solution": false,
     "task": false
    }
   },
   "source": [
    "**General Remarks**:\n",
    "<div class=\"alert alert-danger\">\n",
    "This notebook deals with Hidden Markov Models (HMMs), which will not be covered in the lecture before the 11th of January 2022. If you would like to start early anyway, we recommend reading chapter 17 of Murphy's book 'Machine Learning: A Probabilistic Perspective.'\n",
    "</div>\n",
    "\n",
    "Before you start with this problem, study the inference chapter in Slide Deck (SD) 6a.\n",
    "- Internalize the filtering, prediction, smoothing, and decoding algorithms until you feel confident you can implement them yourself. Only then start working on this problem; otherwise, you will waste a lot of time.\n",
    "\n",
    "And as always:\n",
    "- Read the `Instructions` notebook\n",
    "- Do not delete or add cells.\n",
    "- Store your results into the corresponding result variables or implement the provided functions.\n",
    "- Replace the placeholders `# YOUR CODE HERE` `raise NotImplementedError()` / `YOUR ANSWER HERE` with your code / answers."
   ]
  },
  {
   "cell_type": "code",
   "execution_count": 1,
   "metadata": {
    "deletable": false,
    "editable": false,
    "nbgrader": {
     "cell_type": "code",
     "checksum": "d83e37c0762ca3ba11b0c3b65991ec3e",
     "grade": false,
     "grade_id": "cell-3b121f6d3ecbeed5",
     "locked": true,
     "schema_version": 3,
     "solution": false,
     "task": false
    }
   },
   "outputs": [],
   "source": [
    "import numpy as np\n",
    "from utils import plot_states, get_weather_example, HMM"
   ]
  },
  {
   "cell_type": "markdown",
   "metadata": {
    "deletable": false,
    "editable": false,
    "nbgrader": {
     "cell_type": "markdown",
     "checksum": "e4894d84444c668e652049170271568b",
     "grade": false,
     "grade_id": "cell-615886dd1edf8b6b",
     "locked": true,
     "schema_version": 3,
     "solution": false,
     "task": false
    }
   },
   "source": [
    "### Inference in HMMs\n",
    "\n",
    "In this assignment, we will implement some of the common inference algorithms for Hidden Markov Models, using the following data structure to store the distribution tables:"
   ]
  },
  {
   "cell_type": "code",
   "execution_count": 2,
   "metadata": {
    "deletable": false,
    "editable": false,
    "nbgrader": {
     "cell_type": "code",
     "checksum": "771e3faefbe121216bc2d3e88d799326",
     "grade": false,
     "grade_id": "cell-fa7ac8d57a1a9257",
     "locked": true,
     "schema_version": 3,
     "solution": false,
     "task": false
    }
   },
   "outputs": [
    {
     "name": "stdout",
     "output_type": "stream",
     "text": [
      "class HMM:\n",
      "    def __init__(self, pi: np.ndarray, A: np.ndarray, B: np.ndarray):\n",
      "        \"\"\"\n",
      "        Datastructure that holds the probability tables for\n",
      "        a discrete observation HMM having N possible states\n",
      "        and M possible observations.\n",
      "\n",
      "        :param pi: Initial probabilities (vector of size N)\n",
      "        :param A: Transition probabilities (matrix of size NxN)\n",
      "        :param B: Observation probabilities (matrix of size MxN)\n",
      "        \"\"\"\n",
      "        num_states = len(pi)\n",
      "        assert pi.shape == (num_states,)\n",
      "        assert A.shape == (num_states, num_states)\n",
      "        assert np.allclose(A.sum(axis=1), 1)\n",
      "        assert B.shape[1] == num_states\n",
      "        assert np.allclose(B.sum(axis=0), 1)\n",
      "        \n",
      "        self.num_states = num_states\n",
      "        self.pi = pi\n",
      "        self.A = A\n",
      "        self.B = B\n",
      "\n"
     ]
    }
   ],
   "source": [
    "import inspect\n",
    "print(inspect.getsource(HMM))"
   ]
  },
  {
   "cell_type": "markdown",
   "metadata": {
    "deletable": false,
    "editable": false,
    "nbgrader": {
     "cell_type": "markdown",
     "checksum": "b685f4fe8c380745d67abb6c4167e555",
     "grade": false,
     "grade_id": "cell-0c8ae272d4da2d51",
     "locked": true,
     "schema_version": 3,
     "solution": false,
     "task": false
    }
   },
   "source": [
    "Each `HMM` object holds four member variables (SD 6a., p. 9):\n",
    "- `num_states` is the number of states the hidden variable can take $\\mid S \\mid$.\n",
    "- `pi` represents the inital state distribution model $P(S^{(0)})$.\n",
    "- `A` gives the state transition probabilities $P(S^{(t+1)} \\mid S^{(t)})$ where $\\mathbf{A} = \\{a_{ij}\\} = \\{P(s_j^{(t+1)} \\mid s_i^{t})\\}$. That means, each row in $\\mathbf{A}$ represents a probability distribution over the next states given the current state (SD 6a, p. 10).\n",
    "- `B`gives the observation probabilities $P(O^{(t)} \\mid S^{(t)})$ where $\\mathbf{B} = \\{b_{ij}\\} = \\{b_j(o_i)\\} = \\{P(o_i\\mid s_j)\\}$. That means, each column in $\\mathbf{B}$ is a probability distribution over observations given the current state (SD 6a, p. 11).\n"
   ]
  },
  {
   "cell_type": "markdown",
   "metadata": {
    "deletable": false,
    "editable": false,
    "nbgrader": {
     "cell_type": "markdown",
     "checksum": "e833696b5922e14dfa3c8f28e964a009",
     "grade": false,
     "grade_id": "cell-429391aa42bc6e85",
     "locked": true,
     "schema_version": 3,
     "solution": false,
     "task": false
    }
   },
   "source": [
    "### Filtering\n",
    "\n",
    "<div class=\"alert alert-warning\">\n",
    "\n",
    "Implement the forward algorithm for filtering! (4 points)\n",
    "\n",
    "</div>\n",
    "\n",
    "`forward` takes two parameters:\n",
    " - `hmm` is a HMM object which holds $\\mathbf{A}$, $\\mathbf{B}$ and $\\mathbf{\\Pi}$.\n",
    " - `observations` is a 1-D NumPy array representing the observed sequence.\n",
    " \n",
    "`forward` returns\n",
    "- a NumPy array of shape `(len(observations) + 1, hmm.num_states)`. Row $t$ represent the filtering distribution $\\mathsf{f}^{(1:t)} = P(S^{(t)} \\mid \\mathbf{o}^{(1:t)})$, for $t$ from `0` to `len(observations)`.\n",
    "\n",
    "*Hints*:\n",
    "- $\\mathsf{f}^{(1:0)}$ is the intial state distribution $\\mathbf{\\Pi}$.\n",
    "- Compute the forward message at time $t$ recursively from the previous forward message (SD 6a, p. 16):\n",
    "\n",
    "  $$P(S^{(t+1)} \\mid \\mathbf{o}^{(1:t+1)}) = \\mathsf{f}^{(1:t+1)} = \\frac{1}{Z} \\cdot \\mathbf{B}[o^{(t+1)}] \\circ \\mathbf{A}^T \\mathbf{f}^{(1:t)}$$\n",
    "\n",
    "  $Z$ is the normalization constant, i.e. the sum over the values in the forward message.\n",
    "\n",
    "- A NumPy array (matrix) `X` can be transposed with `X.T`.\n",
    "- Use `X * Y` to compute the element-wise (Hadamard) product between two arrays.\n",
    "- `np.dot(X, y)` (or `X @ y`) can be used to compute the sum-product over the last axis of X and y, where X is a 2-D array, and y is a 1-D array."
   ]
  },
  {
   "cell_type": "code",
   "execution_count": 3,
   "metadata": {
    "deletable": false,
    "nbgrader": {
     "cell_type": "code",
     "checksum": "8ec1443748bdf5766c5e1398a73ba321",
     "grade": false,
     "grade_id": "cell-dfd39c839ab2ba8e",
     "locked": false,
     "schema_version": 3,
     "solution": true,
     "task": false
    }
   },
   "outputs": [],
   "source": [
    "def forward(hmm: HMM, observations: np.ndarray):\n",
    "    \"\"\"\n",
    "    Computes the filtering distribution (forward messages) for a given \n",
    "    Hidden Markov Model and observations.\n",
    "    \n",
    "    :param hmm: HMM datastructure\n",
    "    :param observations: Numpy array containing the observations\n",
    "\n",
    "    :return: filtering distribution (each row represents a time step)\n",
    "    \"\"\"\n",
    "    # initialize empty array for the forward messages\n",
    "    f = np.empty((len(observations) + 1, hmm.num_states))\n",
    "    \n",
    "    # YOUR CODE HERE\n",
    "    f[0] = hmm.pi\n",
    "\n",
    "    for i in range(1, f.shape[0]):\n",
    "        f[i] = hmm.B[observations[i - 1]] * (hmm.A.T @ f[i - 1])\n",
    "        f[i] /= f[i].sum()\n",
    "\n",
    "    return f"
   ]
  },
  {
   "cell_type": "code",
   "execution_count": 4,
   "metadata": {
    "deletable": false,
    "editable": false,
    "nbgrader": {
     "cell_type": "code",
     "checksum": "79f1ed4a40d15d95f4a59211fd8528f5",
     "grade": true,
     "grade_id": "cell-d37678daeaafc41f",
     "locked": true,
     "points": 4,
     "schema_version": 3,
     "solution": false,
     "task": false
    }
   },
   "outputs": [
    {
     "data": {
      "image/png": "[encoded data removed]",
      "text/plain": [
       "<Figure size 864x288 with 1 Axes>"
      ]
     },
     "metadata": {
      "needs_background": "light"
     },
     "output_type": "display_data"
    },
    {
     "data": {
      "image/png": "[encoded data removed]",
      "text/plain": [
       "<Figure size 864x288 with 1 Axes>"
      ]
     },
     "metadata": {
      "needs_background": "light"
     },
     "output_type": "display_data"
    }
   ],
   "source": [
    "# sanity check using weather example from the lecture slides\n",
    "expected_f = np.array([\n",
    "    [0.2, 0.28464419, 0.33090744, 0.06386911],\n",
    "    [0.3, 0.3258427,  0.38844667, 0.2900097 ],\n",
    "    [0.5, 0.38951311, 0.28064589, 0.64612119]\n",
    "]).T # < Note the transposed here >\n",
    "\n",
    "\n",
    "actual_f = forward(*get_weather_example())\n",
    "\n",
    "# check shape\n",
    "assert actual_f.shape == expected_f.shape, f'Shape mismatch, expected {expected_f.shape}, but got {actual_f.shape}.'\n",
    "assert np.allclose(actual_f.sum(axis=1), np.ones((4,))), f'Proper probability distribution expected. (Entries sum to 1).'\n",
    "\n",
    "# plot best path\n",
    "plot_states(expected_f.argmax(axis=1), expected_f, title=\"Expected\", state_names=['rainy', 'cloudy', 'sunny'])\n",
    "plot_states(actual_f.argmax(axis=1), actual_f, title=\"Your Implementation\",state_names=['rainy', 'cloudy', 'sunny'])\n",
    "\n",
    "# check values\n",
    "assert np.allclose(expected_f, actual_f), f'Result mismatch, expected \\n{expected_f} \\nbut got \\n{actual_f}.'"
   ]
  },
  {
   "cell_type": "markdown",
   "metadata": {
    "deletable": false,
    "editable": false,
    "nbgrader": {
     "cell_type": "markdown",
     "checksum": "10d138e91596c0e59bc83a0fec7cfb98",
     "grade": false,
     "grade_id": "cell-3adefd88c3d49582",
     "locked": true,
     "schema_version": 3,
     "solution": false,
     "task": false
    }
   },
   "source": [
    "### Prediction\n",
    "\n",
    "<div class=\"alert alert-warning\">\n",
    "\n",
    "Implement the forward algorithm for prediction! (4 points)\n",
    "\n",
    "</div>\n",
    "\n",
    "`prediction` takes three parameters:\n",
    " - `hmm` is a HMM object which holds $\\mathbf{A}$, $\\mathbf{B}$ and $\\mathbf{\\Pi}$.\n",
    " - `observations` is a 1-D NumPy array representing the observed sequence.\n",
    " - `steps` is the number of steps to project the hidden state into the future.\n",
    " \n",
    "\n",
    "`prediction` returns\n",
    "- a NumPy array of shape `(len(observations) + 1 + steps, hmm.num_states)`. The rows represent the distributions:\n",
    "    - $P(S^{(t)} \\mid \\mathbf{o}^{(1:t)}) \\quad \\text{if}  \\;  t \\in \\{0, \\ldots, T\\}$, and\n",
    "    - $P(S^{(t)} \\mid \\mathbf{o}^{(1:T)}) \\quad \\text{otherwise}$, i.e. for the $s$ prediction steps.\n",
    "\n",
    "*Hints*:\n",
    "\n",
    "- Use your `forward` function to initialize the first $t+1$ distributions (we already did this for you):\n",
    "    $$P(S^{(t)} \\mid \\mathbf{o}^{(1:t)}) = \\mathbf{p}^{(t)} = \\mathsf{f}^{(1:t)}$$\n",
    "    \n",
    "- After that, compute the forward messages for the $k^{\\text{th}}$ prediction step recursively (SD 6a, p. 27):\n",
    "\n",
    "$$P(S^{(T + k + 1)} \\mid \\mathbf{o}^{(1:T)}) = \\mathbf{p}^{(T+k+1)} = \\mathbf{A}^T \\mathbf{p}^{(T+k)}$$\n",
    "\n",
    "- You will need matrix transposition and a matrix-vector product again."
   ]
  },
  {
   "cell_type": "code",
   "execution_count": 5,
   "metadata": {
    "deletable": false,
    "nbgrader": {
     "cell_type": "code",
     "checksum": "167cb108cd3e6bf09b4355075d8279a3",
     "grade": false,
     "grade_id": "cell-bd8b0daf8d5cfc53",
     "locked": false,
     "schema_version": 3,
     "solution": true,
     "task": false
    }
   },
   "outputs": [],
   "source": [
    "def prediction(hmm: HMM, observations: np.ndarray, steps: int):\n",
    "    \"\"\"\n",
    "    Computes the forward messages and future predictions for a given \n",
    "    Hidden Markov Model and observations.\n",
    "    \n",
    "    :param hmm: HMM data structure\n",
    "    :param observations: Numpy array containing the observations\n",
    "\n",
    "    :return: forward messages and predictions (each row represents a time step)\n",
    "    \"\"\"\n",
    "    # initialize empty array for the forward messages\n",
    "    p = np.empty((len(observations)+1+steps, hmm.num_states))\n",
    "    \n",
    "    # initialize the states for which we have observation\n",
    "    p[:len(observations)+1] = forward(hmm, observations)\n",
    "    \n",
    "    # YOUR CODE HERE\n",
    "    for s in range(steps):\n",
    "        p[len(observations) + 1 + s] = hmm.A.T @ p[len(observations) + s]\n",
    "    \n",
    "    return p"
   ]
  },
  {
   "cell_type": "code",
   "execution_count": 6,
   "metadata": {
    "deletable": false,
    "editable": false,
    "nbgrader": {
     "cell_type": "code",
     "checksum": "d64f735c8192dfebc7c8d60874a565c9",
     "grade": true,
     "grade_id": "cell-944202aa8b44a00d",
     "locked": true,
     "points": 4,
     "schema_version": 3,
     "solution": false,
     "task": false
    }
   },
   "outputs": [
    {
     "data": {
      "image/png": "[encoded data removed]",
      "text/plain": [
       "<Figure size 864x288 with 1 Axes>"
      ]
     },
     "metadata": {
      "needs_background": "light"
     },
     "output_type": "display_data"
    },
    {
     "data": {
      "image/png": "[encoded data removed]",
      "text/plain": [
       "<Figure size 864x288 with 1 Axes>"
      ]
     },
     "metadata": {
      "needs_background": "light"
     },
     "output_type": "display_data"
    }
   ],
   "source": [
    "# sanity check using the weather example\n",
    "expected_f = np.array([\n",
    "    [0.2, 0.28464419, 0.33090744, 0.2381169, 0.20747555],\n",
    "    [0.3, 0.3258427,  0.38844667, 0.36040482, 0.32782579],\n",
    "    [0.5, 0.38951311, 0.28064589, 0.40147828, 0.46469866]\n",
    "]).T\n",
    "\n",
    "actual_f = prediction(*get_weather_example(sequence=[2,1]), 2)\n",
    "\n",
    "# check shape\n",
    "assert actual_f.shape == expected_f.shape, f'Shape mismatch, expected {expected_f.shape}, but got {actual_f.shape}.'\n",
    "assert np.allclose(actual_f.sum(axis=1), np.ones((5,))), f'Proper probability distribution expected. (Entries sum to 1).'\n",
    "\n",
    "# plot best path\n",
    "plot_states(expected_f.argmax(axis=1), expected_f, title=\"Expected\", state_names=['rainy', 'cloudy', 'sunny'])\n",
    "plot_states(actual_f.argmax(axis=1), actual_f, title=\"Your Implementation\",state_names=['rainy', 'cloudy', 'sunny'])\n",
    "\n",
    "# check values\n",
    "assert np.allclose(expected_f, actual_f), f'Result mismatch, expected \\n{expected_f} \\nbut got \\n{actual_f}.'\n",
    "\n",
    "# check stationary distribution\n",
    "assert np.allclose(\n",
    "    prediction(*get_weather_example(sequence=[2,1]), 16)[-1], \n",
    "    np.array([0.181827, 0.27275136, 0.54542164])\n",
    ")"
   ]
  },
  {
   "cell_type": "markdown",
   "metadata": {
    "deletable": false,
    "editable": false,
    "nbgrader": {
     "cell_type": "markdown",
     "checksum": "290835eb51e45dd0880f564d0459426c",
     "grade": false,
     "grade_id": "cell-e548ec535f45e1d3",
     "locked": true,
     "schema_version": 3,
     "solution": false,
     "task": false
    }
   },
   "source": [
    "### Smoothing\n",
    "\n",
    "<div class=\"alert alert-warning\">\n",
    "\n",
    "Implement the backward algorithm for smoothing! (4 points)\n",
    "\n",
    "</div>\n",
    "\n",
    "`backward` takes two parameters:\n",
    " - `hmm` is a HMM object which holds $\\mathbf{A}$, $\\mathbf{B}$ and $\\mathbf{\\Pi}$.\n",
    " - `observations` is a 1-D NumPy array representing the observed sequence.\n",
    " \n",
    "`backward` returns\n",
    "- a NumPy array of shape `(len(observations) + 1, hmm.num_states)`. The rows in this array represent the  probabilities $\\mathsf{b}^{(t+1:T)} = P(\\mathbf{o}^{(t+1:T)} \\mid S^{(t)})$. <br>**Important:** Rescale these probabilities to avaid arithmetic underflow. Rescale each backward message such that its values sum to one.\n",
    "\n",
    "\n",
    "*Hints*:\n",
    "- initialize $\\mathsf{b}^{(T+1:T)}$ with  $\\frac{\\mathbf{1}}{\\mid S \\mid }$.\n",
    "- Use our modified formula to compute the normalized backward message at time $t$ recursively given the one at $t+1$:\n",
    "\n",
    "  $$ P(\\mathbf{o}^{(t+1:T)} \\mid S^{(t)}) = \\mathsf{b}^{(t+1:T)} = \\frac{1}{Z} \\cdot \\mathbf{A}(\\mathbf{B}[o^{(t+1)}]^T \\circ \\mathsf{b}^{(t+2:T)})$$\n",
    "\n",
    " $Z$ is the normalization constant, i.e. the sum over the values in the backward message.\n",
    "\n",
    "- The equation uses transposition to turn row vectors into column vectors. In NumPy, vectors do not have an orientation anyway.\n",
    "- You will need the Hadamard product and a matrix-vector product again."
   ]
  },
  {
   "cell_type": "code",
   "execution_count": 7,
   "metadata": {
    "deletable": false,
    "nbgrader": {
     "cell_type": "code",
     "checksum": "df7667f7a85b5e537924f0edfba42d2b",
     "grade": false,
     "grade_id": "cell-314af18b53d61894",
     "locked": false,
     "schema_version": 3,
     "solution": true,
     "task": false
    }
   },
   "outputs": [],
   "source": [
    "def backward(hmm: HMM, observations: np.ndarray):\n",
    "    \"\"\"\n",
    "    Computes the backward messages for a given \n",
    "    Hidden Markov Model and observations.\n",
    "    \n",
    "    :param hmm: HMM datastructure\n",
    "    :param observations: Numpy array containing the observations\n",
    "\n",
    "    :return: backward messages (each row represents a time step)\n",
    "    \"\"\"\n",
    "    # initialize empty array for the backward messages\n",
    "    b = np.empty((len(observations) + 1, hmm.num_states))\n",
    "    \n",
    "#     arr = arr/(arr.min() + 1e-10)\n",
    "#     return arr / arr.sum()\n",
    "\n",
    "    # YOUR CODE HERE\n",
    "\n",
    "    def rescale(arr):\n",
    "        arr /= (arr.min() + 1e-10)\n",
    "        return arr / arr.sum()\n",
    "    \n",
    "    b = np.ones((len(observations) + 1, hmm.num_states)) / hmm.num_states\n",
    "\n",
    "    for i in range(1, len(observations) + 1):\n",
    "        b[-i - 1] = rescale(hmm.A @ (hmm.B[observations[-i]].T * b[-i]))\n",
    "    \n",
    "    return b"
   ]
  },
  {
   "cell_type": "code",
   "execution_count": 8,
   "metadata": {
    "deletable": false,
    "editable": false,
    "nbgrader": {
     "cell_type": "code",
     "checksum": "fc63260b15fc9c6837c8772ba63e0140",
     "grade": true,
     "grade_id": "cell-22932c8c17e0b2df",
     "locked": true,
     "points": 4,
     "schema_version": 3,
     "solution": false,
     "task": false
    }
   },
   "outputs": [],
   "source": [
    "# sanity check using the weather example\n",
    "\n",
    "expected_f = np.array([\n",
    "    [0.37656343, 0.36522439, 0.25821219],\n",
    "    [0.35404896, 0.34597794, 0.2999731 ],\n",
    "    [0.26956522, 0.27826087, 0.45217391],\n",
    "    [0.33333333, 0.33333333, 0.33333333]\n",
    "])\n",
    "\n",
    "actual_f = backward(*get_weather_example())\n",
    "\n",
    "# check shape\n",
    "assert actual_f.shape == expected_f.shape,f'Shape mismatch, expected {expected_f.shape}, but got {actual_f.shape}.'\n",
    "# Check well formedness\n",
    "assert np.allclose(actual_f.sum(axis=1), np.ones((4,))), f'Proper probability distribution expected. (Entries sum to 1).'\n",
    "\n",
    "# check values\n",
    "assert np.allclose(expected_f, actual_f), f'Result mismatch, expected \\n{expected_f} \\nbut got \\n{actual_f}.'"
   ]
  },
  {
   "cell_type": "markdown",
   "metadata": {
    "deletable": false,
    "editable": false,
    "nbgrader": {
     "cell_type": "markdown",
     "checksum": "014b973b47944d7e8cd8049ef066b6b8",
     "grade": false,
     "grade_id": "cell-9444be295cbeb86e",
     "locked": true,
     "schema_version": 3,
     "solution": false,
     "task": false
    }
   },
   "source": [
    "<div class=\"alert alert-warning\">\n",
    "\n",
    "Implement the forward-backward algorithm for smoothing. (2 points)\n",
    "\n",
    "</div>\n",
    "\n",
    "`forward_backward` takes two parameters:\n",
    " - `hmm` is a HMM object which holds $\\mathbf{A}$, $\\mathbf{B}$ and $\\mathbf{\\Pi}$.\n",
    " - `observations` is a 1-D NumPy array of shape `(T,)` representing the observed sequence.\n",
    " \n",
    "`forward_backward` returns\n",
    "- a NumPy array of shape `(len(observations), hmm.num_states)`. The rows represent the smoothed distribution $P({S}^{(t)} \\mid \\mathbf{o}^{(1:T)})$.\n",
    "\n",
    "*Hints*:\n",
    "- Use the formula from the lecture slides to compute the posterior distribution over the states at time $t$ (6a, slide 36):\n",
    "\n",
    "$$ P({S}^{(t)} \\mid \\mathbf{o}^{(1:T)}) = \\frac{1}{Z} \\cdot \\mathsf{f}^{(1:t)} \\circ \\mathsf{b}^{(t+1:T)}$$\n",
    "- Reuse the `forward` and `backward` functions to get forward and backward messages."
   ]
  },
  {
   "cell_type": "code",
   "execution_count": 9,
   "metadata": {
    "deletable": false,
    "nbgrader": {
     "cell_type": "code",
     "checksum": "62294da67d2f60767dde26cf24fab4a8",
     "grade": false,
     "grade_id": "cell-9b24177886f0b0dc",
     "locked": false,
     "schema_version": 3,
     "solution": true,
     "task": false
    }
   },
   "outputs": [],
   "source": [
    "def forward_backward(hmm, observations):\n",
    "    \"\"\"\n",
    "    Computes the posterior (smoothing distribution) for a given \n",
    "    Hidden Markov Model and observations.\n",
    "    \n",
    "    :param hmm: HMM data structure\n",
    "    :param observations: Numpy array containing the observations\n",
    "\n",
    "    :return: posterior distribution (each row represents a time step)\n",
    "\n",
    "    \"\"\"\n",
    "    \n",
    "    # YOUR CODE HERE\n",
    "    f = forward(hmm, observations)\n",
    "    b = backward(hmm, observations)\n",
    "    posterior = np.zeros_like(f)\n",
    "    \n",
    "    for i in range(len(observations) + 1):\n",
    "        posterior[i] = f[i] * b[i]\n",
    "        posterior[i] /= posterior[i].sum()\n",
    "    \n",
    "    return posterior"
   ]
  },
  {
   "cell_type": "code",
   "execution_count": 10,
   "metadata": {
    "deletable": false,
    "editable": false,
    "nbgrader": {
     "cell_type": "code",
     "checksum": "888a607ea4063d8634fd0821aac2a8f5",
     "grade": true,
     "grade_id": "cell-0318edc4a30fe2d2",
     "locked": true,
     "points": 2,
     "schema_version": 3,
     "solution": false,
     "task": false
    }
   },
   "outputs": [
    {
     "data": {
      "image/png": "[encoded data removed]",
      "text/plain": [
       "<Figure size 864x288 with 1 Axes>"
      ]
     },
     "metadata": {
      "needs_background": "light"
     },
     "output_type": "display_data"
    },
    {
     "data": {
      "image/png": "[encoded data removed]",
      "text/plain": [
       "<Figure size 864x288 with 1 Axes>"
      ]
     },
     "metadata": {
      "needs_background": "light"
     },
     "output_type": "display_data"
    }
   ],
   "source": [
    "# sanity check using weather example\n",
    "\n",
    "expected_f = np.array([\n",
    "    [0.23985994, 0.34895595, 0.41118411],\n",
    "    [0.3050589 , 0.3412514 , 0.35368971],\n",
    "    [0.27514961, 0.33341264, 0.39143776],\n",
    "    [0.06386911, 0.2900097 , 0.64612119]\n",
    "])\n",
    "\n",
    "actual_f = forward_backward(*get_weather_example(sequence=[2,1,0]))\n",
    "\n",
    "# check shape\n",
    "assert actual_f.shape == expected_f.shape,f'Shape mismatch, expected {expected_f.shape}, but got {actual_f.shape}.'\n",
    "\n",
    "# Check well formedness\n",
    "assert np.allclose(actual_f.sum(axis=1), np.ones((4,))), f'Proper probability distribution expected. (Entries sum to 1).'\n",
    "\n",
    "# plot best path\n",
    "plot_states(expected_f.argmax(axis=1), expected_f, title=\"Expected\", state_names=['rainy', 'cloudy', 'sunny'])\n",
    "plot_states(actual_f.argmax(axis=1), actual_f, title=\"Your Implementation\",state_names=['rainy', 'cloudy', 'sunny'])\n",
    "\n",
    "# check values\n",
    "assert np.allclose(expected_f, actual_f), f'Result mismatch, expected \\n{expected_f} \\nbut got \\n{actual_f}.'"
   ]
  },
  {
   "cell_type": "markdown",
   "metadata": {
    "deletable": false,
    "editable": false,
    "nbgrader": {
     "cell_type": "markdown",
     "checksum": "aca70a04265843e704c3ec363b308066",
     "grade": false,
     "grade_id": "cell-f993f5227e6efeb4",
     "locked": true,
     "schema_version": 3,
     "solution": false,
     "task": false
    }
   },
   "source": [
    "### Decoding - Viterbi Algorithm\n",
    "\n",
    "<div class=\"alert alert-warning\">\n",
    "\n",
    "Implement the Viterbi algorithm for decoding! (4 points)\n",
    "\n",
    "</div>\n",
    "\n",
    "`viterbi` takes two parameters:\n",
    " - `hmm` is a HMM object which holds $\\mathbf{A}$, $\\mathbf{B}$ and $\\mathbf{\\Pi}$.\n",
    " - `observations` is a 1-D NumPy array of shape `(T,)` representing the observed sequence.\n",
    " \n",
    "`viterbi` returns two objects:\n",
    "1. a NumPy array of shape `(len(observations) + 1, hmm.num_states)`. The rows in this array hold a normalized version of the Viterbi message $\\mathbf{v}^{(1:t)} = \\text{max}_{s^{0}, ...,s^{t-1}} \\; P(s^{(0)}, ..., s^{(t-1)}, S^{(t)}, \\mathbf{o}^{(1:t)})$ for each time step $t$.<br>**Important:** Rescale these probabilities to avoid arithmetic underflow. Rescale each Viterbi message such that its values sum up to one.\n",
    "\n",
    "2. a 1-D NumPy array of length `len(observations) + 1`. The values of this array represent the most probable path given the observations $\\textit{arg max}_{\\mathbf{S}^{0:T}} \\; P(\\mathbf{S}^{(0:T)} \\mid \\mathbf{o}^{(1:T)})$. Each state in the path is represented as an integer value.\n",
    "\n",
    "\n",
    "\n",
    "\n",
    "*Hints*:\n",
    "- initialize $\\mathsf{v}^{(1:0)}$ with $\\mathbf{\\Pi}$.\n",
    "- Use our modified formula to compute the next Viterbi message at time $t$ recursively given the previous one. $Z$ is the normalization constant, i.e. the sum over the values in the Viterbi message:\n",
    "  $$\\mathsf{v}_i^{(1:t+1)} = \\text{max}_j\\;\\; \\frac{1}{Z} \\cdot \\mathsf{v}_j^{(1:t)} a_{ji} b_i(o^{(t+1)}) $$\n",
    "  Recheck the notes on the notation at the beginning of the notebook to understand the equation.\n",
    "\n",
    "- For each state $s^{t}_i$, keep a back pointer to the best state that leads to it (starting at $t=1$): \n",
    "  $$\\mathsf{bp}_i^{(1:t+1)} = \\text{arg max}_j\\;\\; \\mathsf{v}_j^{(1:t)} a_{ji} $$\n",
    "\n",
    "- Using the back pointers $\\mathsf{bp}^{(t)}$, you can trace the best path. Start with:\n",
    "  $$s^{(T)*} = \\text{arg max}_{i} \\mathsf{v}_i^{(1:T)}$$\n",
    "\n",
    "- `np.max` and `np.argmax` can be used to get the largest entry and the index of the largest element in a NumPy array, respectively.\n",
    "\n",
    "- Almost all operations in the previous equations can be *vectorized* in NumPy, i.e., you will not need to iterate over $i$ or $j$.\n",
    "- You can use a for-loop to iterate over the time steps."
   ]
  },
  {
   "cell_type": "code",
   "execution_count": 11,
   "metadata": {
    "deletable": false,
    "nbgrader": {
     "cell_type": "code",
     "checksum": "73daab194a555b66ab4cda6833e0458c",
     "grade": false,
     "grade_id": "cell-b63ead3cdac64f56",
     "locked": false,
     "schema_version": 3,
     "solution": true,
     "task": false
    }
   },
   "outputs": [],
   "source": [
    "def viterbi(hmm: HMM, observations: np.ndarray):\n",
    "    \"\"\"\n",
    "    Computes the most probable state sequence for a given\n",
    "    Hidden Markov Model and observations.\n",
    "    \n",
    "    :param hmm: HMM data structure\n",
    "    :param observations: Numpy array containing the observations\n",
    "\n",
    "    :return: Viterbi messages (each row represents a time step) and\n",
    "             Numpy array of state IDs representing the most probable state sequence\n",
    "    \"\"\"\n",
    "    v = np.empty((len(observations) + 1, hmm.num_states))\n",
    "    bp = np.empty_like(v, dtype=int)\n",
    "    p = np.empty((len(observations) + 1,), dtype=int)\n",
    "\n",
    "    # YOUR CODE HERE\n",
    "    v[0] = hmm.pi\n",
    "    \n",
    "    def rescale(arr):\n",
    "        arr /= (arr.min() + 1e-10)\n",
    "        return arr / arr.sum()\n",
    "\n",
    "    for t in range(len(observations)):\n",
    "        v[t + 1] = rescale((v[t].reshape(v[t].shape[0], 1) @ hmm.B[observations[t]].reshape(1, hmm.B.shape[1]) * hmm.A).max(0))\n",
    "        bp[t + 1] = (hmm.A * v[t]).argmax(-1)\n",
    "          \n",
    "    p[-1] = v[-1].argmax()\n",
    "    for t in reversed(range(1, len(observations) + 1)):\n",
    "        p[t - 1] = bp[t, p[t]]\n",
    "\n",
    "    return v, p"
   ]
  },
  {
   "cell_type": "code",
   "execution_count": 12,
   "metadata": {
    "deletable": false,
    "editable": false,
    "nbgrader": {
     "cell_type": "code",
     "checksum": "c33e60d8fbb33020edcc12641d69310c",
     "grade": true,
     "grade_id": "cell-89faa345227f80a9",
     "locked": true,
     "points": 4,
     "schema_version": 3,
     "solution": false,
     "task": false
    }
   },
   "outputs": [
    {
     "data": {
      "image/png": "[encoded data removed]",
      "text/plain": [
       "<Figure size 864x288 with 1 Axes>"
      ]
     },
     "metadata": {
      "needs_background": "light"
     },
     "output_type": "display_data"
    },
    {
     "data": {
      "image/png": "[encoded data removed]",
      "text/plain": [
       "<Figure size 864x288 with 1 Axes>"
      ]
     },
     "metadata": {
      "needs_background": "light"
     },
     "output_type": "display_data"
    }
   ],
   "source": [
    "expected_v = np.array([\n",
    "    [0.2       , 0.3       , 0.5       ],\n",
    "    [0.19277108, 0.3253012 , 0.48192771],\n",
    "    [0.19900498, 0.40298507, 0.39800995],\n",
    "    [0.02967033, 0.26703297, 0.7032967 ]\n",
    "])\n",
    "expected_p = np.array([2, 2, 2, 2])\n",
    "\n",
    "actual_v, actual_p = viterbi(*get_weather_example(sequence=[2,1,0]))\n",
    "\n",
    "# check shape\n",
    "assert actual_v.shape == expected_v.shape, f'Shape mismatch, expected {expected_v.shape}, but got {actual_v.shape}.'\n",
    "assert actual_p.shape == expected_p.shape, f'Shape mismatch, expected {expected_p.shape}, but got {actual_p.shape}.'\n",
    "\n",
    "# Check well formedness\n",
    "assert np.allclose(actual_v.sum(axis=1), np.ones((4,))), f'Proper probability distribution expected. (Entries sum to 1).'\n",
    "\n",
    "# plot best path\n",
    "plot_states(expected_p, expected_v, title=\"Expected\", state_names=['rainy', 'cloudy', 'sunny'])\n",
    "plot_states(actual_p, actual_v, title=\"Actual\",state_names=['rainy', 'cloudy', 'sunny'])\n",
    "\n",
    "# check values\n",
    "assert np.allclose(expected_v, actual_v), f'Result mismatch, expected \\n{expected_v} \\nbut got \\n{actual_v}.'\n",
    "assert np.allclose(expected_p, actual_p), f'Result mismatch, expected \\n{expected_p} \\nbut got \\n{actual_p}.'"
   ]
  },
  {
   "cell_type": "markdown",
   "metadata": {
    "deletable": false,
    "editable": false,
    "nbgrader": {
     "cell_type": "markdown",
     "checksum": "a4fc49a354d87a9f242a8338ca990707",
     "grade": false,
     "grade_id": "cell-a9a4eb82ae2f142a",
     "locked": true,
     "schema_version": 3,
     "solution": false,
     "task": false
    }
   },
   "source": [
    "## Where is Santa? Find out using Hidden Markov Models.\n",
    "\n",
    "\n",
    "Little Mary wakes up in the middle of the night of Christmas eve. She heard some noise.\n",
    "Probably Santa Clause is coming with her presents! It’s dark, and she is not allowed to leave\n",
    "her room, so she cannot check where Santa currently is. She can only listen carefully to infer\n",
    "where he might be.\n",
    "\n",
    "Santa can be either **absent**, on his **sleigh**, in the **chimney** or at the Christmas **tree**.To get to the Christmas tree, he has to go through the chimney because the doors are locked.\n",
    "When he’s absent, there will be most probably silence; when he’s on the sleigh, there will be\n",
    "probably some crackle or rumbling; in the chimney there will be most probably rumbling, and\n",
    "when he’s at the Christmas tree putting the presents in place, there might be some crackle.\n",
    "\n",
    "The following image shows the HMM modeling this situation, including transition probabilities.\n",
    "\n",
    "<img style='width:100%;  max-width:400px;' src=\"hmm.svg\">\n",
    "\n",
    "The following tables give the observation probabilities:\n",
    "\n",
    "<style type=\"text/css\">\n",
    ".tg  {border-collapse:collapse;border-spacing:0;margin:0px auto;}\n",
    ".tg td{font-family:Arial, sans-serif;font-size:14px;padding:10px 5px;border-style:solid;border-width:1px;overflow:hidden;word-break:normal;}\n",
    ".tg th{font-family:Arial, sans-serif;font-size:14px;font-weight:normal;padding:10px 5px;border-style:solid;border-width:1px;overflow:hidden;word-break:normal;}\n",
    ".tg .tg-baqh{text-align:center;vertical-align:top}\n",
    ".tg .tg-lqy6{text-align:right;vertical-align:top}\n",
    "</style>\n",
    "<table class=\"tg\">\n",
    "  <tr>\n",
    "    <th class=\"tg-baqh\" colspan=\"2\" rowspan=\"2\"><nobr>$P( o \\mid S )$</nobr></th>\n",
    "    <th class=\"tg-baqh\" colspan=\"4\"><center>$S^{(t)}$</center></th>\n",
    "  </tr>\n",
    "  <tr>\n",
    "    <td class=\"tg-baqh\">a</td>\n",
    "    <td class=\"tg-baqh\">s</td>\n",
    "    <td class=\"tg-baqh\">c</td>\n",
    "    <td class=\"tg-baqh\">t</td>\n",
    "  </tr>\n",
    "  <tr>\n",
    "    <td class=\"tg-baqh\" rowspan=\"3\">$o^{(t)}$<br></td>\n",
    "    <td class=\"tg-lqy6\">silence</td>\n",
    "    <td class=\"tg-baqh\">0.8</td>\n",
    "    <td class=\"tg-baqh\">0.1</td>\n",
    "    <td class=\"tg-baqh\">0.1</td>\n",
    "    <td class=\"tg-baqh\">0.1</td>\n",
    "  </tr>\n",
    "  <tr>\n",
    "    <td class=\"tg-lqy6\">rumbling</td>\n",
    "    <td class=\"tg-baqh\">0.1</td>\n",
    "    <td class=\"tg-baqh\">0.5</td>\n",
    "    <td class=\"tg-baqh\">0.8</td>\n",
    "    <td class=\"tg-baqh\">0.3</td>\n",
    "  </tr>\n",
    "  <tr>\n",
    "    <td class=\"tg-lqy6\">crackle</td>\n",
    "    <td class=\"tg-baqh\">0.1</td>\n",
    "    <td class=\"tg-baqh\">0.4</td>\n",
    "    <td class=\"tg-baqh\">0.1</td>\n",
    "    <td class=\"tg-baqh\">0.6</td>\n",
    "  </tr>\n",
    "</table>\n",
    "\n",
    "The initial state distribution is given by the following table:\n",
    "\n",
    "<style type=\"text/css\">\n",
    ".tg  {border-collapse:collapse;border-spacing:0;margin:0px auto;}\n",
    ".tg td{font-family:Arial, sans-serif;font-size:14px;padding:10px 5px;border-style:solid;border-width:1px;overflow:hidden;word-break:normal;}\n",
    ".tg th{font-family:Arial, sans-serif;font-size:14px;font-weight:normal;padding:10px 5px;border-style:solid;border-width:1px;overflow:hidden;word-break:normal;}\n",
    ".tg .tg-s6z2{text-align:center}\n",
    "</style>\n",
    "<table class=\"tg\">\n",
    "  <tr>\n",
    "    <th class=\"tg-s6z2\" colspan=\"4\"><center>$P(S^{(0)})$</center></th>\n",
    "  </tr>\n",
    "  <tr>\n",
    "    <td class=\"tg-s6z2\">a</td>\n",
    "    <td class=\"tg-s6z2\">s</td>\n",
    "    <td class=\"tg-s6z2\">c</td>\n",
    "    <td class=\"tg-s6z2\">t</td>\n",
    "  </tr>\n",
    "  <tr>\n",
    "    <td class=\"tg-031e\">0.8</td>\n",
    "    <td class=\"tg-031e\">0.1</td>\n",
    "    <td class=\"tg-031e\">0.1</td>\n",
    "    <td class=\"tg-031e\">0.0</td>\n",
    "  </tr>\n",
    "</table>\n",
    "\n",
    "This is the corresponding state transition table: \n",
    "\n",
    "<table class=\"tg\">\n",
    "  <tr>\n",
    "    <th class=\"tg-baqh\" colspan=\"1\" rowspan=\"2\">$P( S^{(t+1)} \\mid S^{(t)} )$</th>\n",
    "    <th class=\"tg-baqh\" colspan=\"1\" rowspan=\"2\"></th>\n",
    "    <th class=\"tg-baqh\" colspan=\"4\"><center>$S^{(t)}$</center></th>\n",
    "  </tr>\n",
    "  <tr>\n",
    "    <td class=\"tg-baqh\">a</td>\n",
    "    <td class=\"tg-baqh\">s</td>\n",
    "    <td class=\"tg-baqh\">c</td>\n",
    "    <td class=\"tg-baqh\">t</td>\n",
    "  </tr>\n",
    "  <tr>\n",
    "    <td class=\"tg-baqh\" rowspan=\"4\">$S^{(t+1)}$<br></td>\n",
    "    <td class=\"tg-lqy6\">a</td>\n",
    "    <td class=\"tg-baqh\">0.7</td>\n",
    "    <td class=\"tg-baqh\">0.3</td>\n",
    "    <td class=\"tg-baqh\">0.0</td>\n",
    "    <td class=\"tg-baqh\">0.0</td>\n",
    "  </tr>\n",
    "  <tr>\n",
    "    <td class=\"tg-lqy6\">s</td>\n",
    "    <td class=\"tg-baqh\">0.3</td>\n",
    "    <td class=\"tg-baqh\">0.4</td>\n",
    "    <td class=\"tg-baqh\">0.4</td>\n",
    "    <td class=\"tg-baqh\">0.0</td>\n",
    "  </tr>\n",
    "  <tr>\n",
    "    <td class=\"tg-lqy6\">c</td>\n",
    "    <td class=\"tg-baqh\">0.0</td>\n",
    "    <td class=\"tg-baqh\">0.3</td>\n",
    "    <td class=\"tg-baqh\">0.2</td>\n",
    "    <td class=\"tg-baqh\">0.3</td>\n",
    "  </tr>\n",
    "  <tr>\n",
    "    <td class=\"tg-lqy6\">t</td>\n",
    "    <td class=\"tg-baqh\">0.0</td>\n",
    "    <td class=\"tg-baqh\">0.0</td>\n",
    "    <td class=\"tg-baqh\">0.4</td>\n",
    "    <td class=\"tg-baqh\">0.7</td>\n",
    "  </tr>  \n",
    "</table>\n",
    "\n",
    "\n",
    "Since Hidden Markov Models are not (yet) in the elementary school curriculum, Mary needs\n",
    "your help to find out the whereabouts of Santa.\n",
    "<div class=\"alert alert-info\">\n",
    "Nothing to do for you here; the follwong part is to check your implementation.\n",
    "</div>"
   ]
  },
  {
   "cell_type": "code",
   "execution_count": 13,
   "metadata": {},
   "outputs": [
    {
     "data": {
      "image/png": "[encoded data removed]",
      "text/plain": [
       "<Figure size 864x288 with 1 Axes>"
      ]
     },
     "metadata": {
      "needs_background": "light"
     },
     "output_type": "display_data"
    },
    {
     "data": {
      "image/png": "[encoded data removed]",
      "text/plain": [
       "<Figure size 864x288 with 1 Axes>"
      ]
     },
     "metadata": {
      "needs_background": "light"
     },
     "output_type": "display_data"
    },
    {
     "data": {
      "image/png": "[encoded data removed]",
      "text/plain": [
       "<Figure size 864x288 with 1 Axes>"
      ]
     },
     "metadata": {
      "needs_background": "light"
     },
     "output_type": "display_data"
    }
   ],
   "source": [
    "pi = np.array([0.8, 0.1, 0.1, 0.0])\n",
    "\n",
    "A = np.array([[0.7, 0.3, 0.0, 0.0],\n",
    "           [0.3, 0.4, 0.3, 0.0],\n",
    "           [0.0, 0.4, 0.2, 0.4],\n",
    "           [0.0, 0.0, 0.3, 0.7]])\n",
    "\n",
    "B = np.array([[0.8, 0.1, 0.1, 0.1],\n",
    "           [0.1, 0.5, 0.8, 0.3],\n",
    "           [0.1, 0.4, 0.1, 0.6]])\n",
    "\n",
    "model = HMM(pi, A, B)\n",
    "\n",
    "# Mary's observations - 0 .. silence, 1 .. rumbling, 2 .. crackle\n",
    "obs = np.array([0, 0, 1, 0, 0, 0, 2, 2, 0, 2, 2, 1, 2, 1, 2, 2, 0, 1, 2, 2, 1, 1, 1, 0, 2, 0, 1, 2, 0, 0])\n",
    "\n",
    "fwd = forward(model, obs)\n",
    "f = fwd.argmax(1)\n",
    "\n",
    "fwdbckwd = forward_backward(model, obs)\n",
    "fb = fwdbckwd.argmax(1)\n",
    "\n",
    "vt, vtp  = viterbi(model, obs)\n",
    "\n",
    "true_fwd = np.array([[ 0.8       ,  0.1       ,  0.1       ,  0.        ],\n",
    "    [ 0.92007797,  0.06237817,  0.00974659,  0.00779727],\n",
    "    [ 0.94020048,  0.05406153,  0.00407881,  0.00165918],\n",
    "    [ 0.28701312,  0.64972666,  0.05969411,  0.00356611]])\n",
    "    \n",
    "true_fwdbckwd = np.array([[  9.41085487e-01,   5.38720181e-02,   5.04249464e-03,   0.00000000e+00],\n",
    "    [  9.65056826e-01,   3.34657970e-02,   1.03017901e-03,   4.47198412e-04],\n",
    "    [  9.44024669e-01,   5.26712024e-02,   3.07328070e-03,   2.30848099e-04],\n",
    "    [  4.86699963e-01,   5.07701911e-01,   5.41252605e-03,   1.85599925e-04]])\n",
    " \n",
    "true_viterbi = np.array([[ 0.8       ,  0.1       ,  0.1       ,  0.        ],\n",
    "    [ 0.93528184,  0.05010438,  0.00626305,  0.00835073],\n",
    "    [ 0.94557515,  0.05065581,  0.0027137 ,  0.00105533],\n",
    "    [ 0.30016956,  0.64322048,  0.05513318,  0.00147678]])\n",
    "\n",
    "true_viterbi_path = np.array([0, 0, 0, 0, 0, 0, 0, 1])\n",
    "\n",
    "assert np.allclose(fwd[:4], true_fwd), \"Error in forward computation\"\n",
    "assert np.allclose(fwdbckwd[:4], true_fwdbckwd), \"Error in forward-backward computation\"\n",
    "assert np.allclose(vt[:4], true_viterbi), \"Error in viterbi computation\"\n",
    "assert (vtp[:8] == true_viterbi_path).all(), \"Error in viterbit-path computation\"\n",
    "\n",
    "plot_states(f, fwd, 'Forward')\n",
    "plot_states(fb, fwdbckwd, 'Forward-Backward')\n",
    "plot_states(vtp, vt, 'Viterbi')"
   ]
  },
  {
   "cell_type": "markdown",
   "metadata": {
    "deletable": false,
    "editable": false,
    "nbgrader": {
     "cell_type": "markdown",
     "checksum": "851eaa7fe30b32d627a5f27d70c01c7c",
     "grade": false,
     "grade_id": "cell-8f0704cdca06168a",
     "locked": true,
     "schema_version": 3,
     "solution": false,
     "task": false
    }
   },
   "source": [
    "## Theory Questions\n",
    "<div class=\"alert alert-warning\">\n",
    "Answer the following questions! (2 points each)\n",
    "</div>\n",
    "\n",
    "Inspect the paths (red arrows) computed with the forward, forward_backward, and Viterbi algorithm. Which path is a valid state sequence according to the state transition model?\n",
    "\n",
    "Store True into the provided variable if the path is valid and False otherwise."
   ]
  },
  {
   "cell_type": "code",
   "execution_count": 14,
   "metadata": {
    "deletable": false,
    "nbgrader": {
     "cell_type": "code",
     "checksum": "b66d1e8898516a4f795893536c40f4f8",
     "grade": false,
     "grade_id": "cell-99f967319ad87fb5",
     "locked": false,
     "schema_version": 3,
     "solution": true,
     "task": false
    }
   },
   "outputs": [],
   "source": [
    "answers = {}\n",
    "answers['forward'] = False\n",
    "answers['forward_backward'] = True\n",
    "answers['viterbi'] = True\n",
    "\n",
    "# YOUR CODE HERE\n",
    "forward = False\n",
    "forward_backward = True\n",
    "viterbi = True"
   ]
  },
  {
   "cell_type": "code",
   "execution_count": 15,
   "metadata": {
    "deletable": false,
    "editable": false,
    "nbgrader": {
     "cell_type": "code",
     "checksum": "6ee7ceb49ef822b60d49d07f4f1a2abe",
     "grade": true,
     "grade_id": "cell-f160ca6b7852fb07",
     "locked": true,
     "points": 2,
     "schema_version": 3,
     "solution": false,
     "task": false
    }
   },
   "outputs": [],
   "source": [
    "assert answers['forward'] in [True, False]\n",
    "assert answers['forward_backward'] in [True, False]\n",
    "assert answers['viterbi'] in [True, False]\n"
   ]
  },
  {
   "cell_type": "markdown",
   "metadata": {
    "deletable": false,
    "editable": false,
    "nbgrader": {
     "cell_type": "markdown",
     "checksum": "8430de04a234b35863af09d15a04b68c",
     "grade": false,
     "grade_id": "cell-d9631bee07ab8115",
     "locked": true,
     "schema_version": 3,
     "solution": false,
     "task": false
    }
   },
   "source": [
    "Which of the algorithms (forward, forward_backward, viterbi) yields a valid state sequence **in general**, i.e., for every possible HMM?\n",
    "\n",
    "Store True into the provided variable if the algorithm **always** yields a valid state sequence and False otherwise."
   ]
  },
  {
   "cell_type": "code",
   "execution_count": 16,
   "metadata": {
    "deletable": false,
    "nbgrader": {
     "cell_type": "code",
     "checksum": "1d5c487896bc5977d61641d0bfbef615",
     "grade": false,
     "grade_id": "cell-40da7875f6e7f9cd",
     "locked": false,
     "schema_version": 3,
     "solution": true,
     "task": false
    }
   },
   "outputs": [],
   "source": [
    "answers = {}\n",
    "answers['forward'] = False\n",
    "answers['forward_backward'] = False\n",
    "answers['viterbi'] = True\n",
    "\n",
    "# YOUR CODE HERE\n",
    "forward = False\n",
    "forward_backward = False\n",
    "viterbi = True"
   ]
  },
  {
   "cell_type": "code",
   "execution_count": 17,
   "metadata": {
    "deletable": false,
    "editable": false,
    "nbgrader": {
     "cell_type": "code",
     "checksum": "bb69f6fcdca21ad6bde2d7e10540e271",
     "grade": true,
     "grade_id": "cell-2d7c4d440a000009",
     "locked": true,
     "points": 2,
     "schema_version": 3,
     "solution": false,
     "task": false
    }
   },
   "outputs": [],
   "source": [
    "assert answers['forward'] in [True, False]\n",
    "assert answers['forward_backward'] in [True, False]\n",
    "assert answers['viterbi'] in [True, False]\n"
   ]
  },
  {
   "cell_type": "markdown",
   "metadata": {
    "deletable": false,
    "editable": false,
    "nbgrader": {
     "cell_type": "markdown",
     "checksum": "9af1c2a565849a5b2e08305512cd019a",
     "grade": false,
     "grade_id": "cell-c903061a68bdc276",
     "locked": true,
     "schema_version": 3,
     "solution": false,
     "task": false
    }
   },
   "source": [
    "Why do some of the algorithms yield a valid state sequence in general, and others do not. Explain briefly!"
   ]
  },
  {
   "cell_type": "markdown",
   "metadata": {
    "deletable": false,
    "nbgrader": {
     "cell_type": "markdown",
     "checksum": "edbf7fd04f8c56db7b4b48fab8f394ea",
     "grade": true,
     "grade_id": "cell-ed45db8b9f96f38e",
     "locked": false,
     "points": 2,
     "schema_version": 3,
     "solution": true,
     "task": false
    }
   },
   "source": [
    "YOUR ANSWER HERE\n",
    "\n",
    "\n",
    "The forward and forward-backward algorithms only give state probabilities (sequence of most probable states). It is not guaranteed that this is a valid path. The Viterbi algorithm uses a backpointer to determine which state most likely led to the one we are currently in."
   ]
  },
  {
   "cell_type": "markdown",
   "metadata": {
    "deletable": false,
    "editable": false,
    "nbgrader": {
     "cell_type": "markdown",
     "checksum": "3e194f92341b05d3322a57cee450b009",
     "grade": false,
     "grade_id": "cell-3847582fdec8e46f",
     "locked": true,
     "schema_version": 3,
     "solution": false,
     "task": false
    }
   },
   "source": [
    "### Bonus Problem:  Design a Hidden Markov Model\n",
    "\n",
    "Design a model ($\\mathbf{A}$, $\\mathbf{B}$ and $\\mathbf{\\Pi}$) and an observation sequence for which only one of the algorithms returns a valid state sequence.\n",
    "\n",
    "<div class=\"alert alert-warning\">\n",
    "\n",
    "Run the three algorithms with your custom HMM and plot the results with `plot_states`. Store the parameters of the Hidden Markov Model into the provided variables. (4 bonus points)\n",
    "\n",
    "</div>"
   ]
  },
  {
   "cell_type": "code",
   "execution_count": 18,
   "metadata": {
    "deletable": false,
    "editable": false,
    "nbgrader": {
     "cell_type": "code",
     "checksum": "e69ed0bcea8dc765639b4aaecac535b7",
     "grade": false,
     "grade_id": "cell-a92ddc5fce99f64e",
     "locked": true,
     "schema_version": 3,
     "solution": false,
     "task": false
    }
   },
   "outputs": [
    {
     "name": "stdout",
     "output_type": "stream",
     "text": [
      "Help on function plot_states in module utils:\n",
      "\n",
      "plot_states(path: numpy.ndarray, values: numpy.ndarray, title: str = None, state_names: list = ['absent', 'sleigh', 'chimney', 'tree']) -> None\n",
      "    Plots the results of a algorithm. Black is 1, white is 0.\n",
      "    \n",
      "    :param path: List or array of state ids\n",
      "    :param values: Detailed values returned by the algorithm (forward-variables, ...)\n",
      "    :param title: Title of the plot\n",
      "    :param state_names: Names of the states\n",
      "\n"
     ]
    }
   ],
   "source": [
    "help(plot_states)"
   ]
  },
  {
   "cell_type": "code",
   "execution_count": 22,
   "metadata": {
    "deletable": false,
    "nbgrader": {
     "cell_type": "code",
     "checksum": "5cd65a08ba3d3482202e86fc5d373274",
     "grade": false,
     "grade_id": "cell-4ca1e4dd5f638b36",
     "locked": false,
     "schema_version": 3,
     "solution": true,
     "task": false
    }
   },
   "outputs": [
    {
     "ename": "TypeError",
     "evalue": "'bool' object is not callable",
     "output_type": "error",
     "traceback": [
      "\u001b[1;31m---------------------------------------------------------------------------\u001b[0m",
      "\u001b[1;31mTypeError\u001b[0m                                 Traceback (most recent call last)",
      "\u001b[1;32m~\\AppData\\Local\\Temp/ipykernel_9148/1334954103.py\u001b[0m in \u001b[0;36m<module>\u001b[1;34m\u001b[0m\n\u001b[0;32m     22\u001b[0m \u001b[0mobs\u001b[0m \u001b[1;33m=\u001b[0m \u001b[0mnp\u001b[0m\u001b[1;33m.\u001b[0m\u001b[0marray\u001b[0m\u001b[1;33m(\u001b[0m\u001b[1;33m[\u001b[0m\u001b[1;36m1\u001b[0m\u001b[1;33m,\u001b[0m \u001b[1;36m2\u001b[0m\u001b[1;33m,\u001b[0m \u001b[1;36m1\u001b[0m\u001b[1;33m]\u001b[0m\u001b[1;33m)\u001b[0m\u001b[1;33m\u001b[0m\u001b[1;33m\u001b[0m\u001b[0m\n\u001b[0;32m     23\u001b[0m \u001b[1;33m\u001b[0m\u001b[0m\n\u001b[1;32m---> 24\u001b[1;33m \u001b[0mfwd\u001b[0m \u001b[1;33m=\u001b[0m \u001b[0mforward\u001b[0m\u001b[1;33m(\u001b[0m\u001b[0mmodel\u001b[0m\u001b[1;33m,\u001b[0m \u001b[0mobs\u001b[0m\u001b[1;33m)\u001b[0m\u001b[1;33m\u001b[0m\u001b[1;33m\u001b[0m\u001b[0m\n\u001b[0m\u001b[0;32m     25\u001b[0m \u001b[0mfwdbckwd\u001b[0m \u001b[1;33m=\u001b[0m \u001b[0mforward_backward\u001b[0m\u001b[1;33m(\u001b[0m\u001b[0mmodel\u001b[0m\u001b[1;33m,\u001b[0m \u001b[0mobs\u001b[0m\u001b[1;33m)\u001b[0m\u001b[1;33m\u001b[0m\u001b[1;33m\u001b[0m\u001b[0m\n\u001b[0;32m     26\u001b[0m \u001b[0mvt\u001b[0m\u001b[1;33m,\u001b[0m \u001b[0mvtp\u001b[0m \u001b[1;33m=\u001b[0m \u001b[0mviterbi\u001b[0m\u001b[1;33m(\u001b[0m\u001b[0mmodel\u001b[0m\u001b[1;33m,\u001b[0m \u001b[0mobs\u001b[0m\u001b[1;33m)\u001b[0m\u001b[1;33m\u001b[0m\u001b[1;33m\u001b[0m\u001b[0m\n",
      "\u001b[1;31mTypeError\u001b[0m: 'bool' object is not callable"
     ]
    }
   ],
   "source": [
    "# YOUR CODE HERE\n",
    "pi = np.array([0.8, 0.1, 0.1])\n",
    "\n",
    "A = np.array(\n",
    "    [\n",
    "        [0.7, 0.3, 0.0],\n",
    "        [0.3, 0.4, 0.3],\n",
    "        [0.0, 0.2, 0.8]\n",
    "    ]\n",
    ")\n",
    "\n",
    "B = np.array(\n",
    "    [\n",
    "        [0.8, 0.1, 0.1],\n",
    "        [0.1, 0.1, 0.8],\n",
    "        [0.1, 0.8, 0.1]\n",
    "    ]\n",
    ")\n",
    "\n",
    "model = HMM(pi, A, B)\n",
    "\n",
    "obs = np.array([1, 2, 1])\n",
    "\n",
    "fwd = forward(model, obs)\n",
    "fwdbckwd = forward_backward(model, obs)\n",
    "vt, vtp = viterbi(model, obs)\n",
    "\n",
    "state_names = ['A', 'B', 'C']\n",
    "\n",
    "plot_states(fwd.argmax(1), fwd, 'Forward', state_names)\n",
    "plot_states(fwdbckwd.argmax(1), fwdbckwd, 'Forward-Backward', state_names)\n",
    "plot_states(vtp, vt, 'Viterbi', state_names)"
   ]
  },
  {
   "cell_type": "code",
   "execution_count": null,
   "metadata": {
    "deletable": false,
    "editable": false,
    "nbgrader": {
     "cell_type": "code",
     "checksum": "7ad5ec6aebdad86abfccf230ecd7ac7d",
     "grade": true,
     "grade_id": "cell-c0bdbd793ba67438",
     "locked": true,
     "points": 4,
     "schema_version": 3,
     "solution": false,
     "task": false
    }
   },
   "outputs": [],
   "source": [
    "assert pi is not None\n",
    "assert A is not None\n",
    "assert B is not None\n",
    "assert obs is not None\n",
    "\n",
    "model = HMM(pi, A, B)\n",
    "\n",
    "fwd = forward(model, obs)\n",
    "fwd_path = fwd.argmax(1)\n",
    "\n",
    "fwdbckwd = forward_backward(model, obs)\n",
    "fwdbckwd_path = fwdbckwd.argmax(1)\n",
    "\n",
    "vt, vt_path  = viterbi(model, obs)\n",
    "\n",
    "state_names = ['s%d' % (s + 1) for s in range(len(pi))]\n",
    "\n",
    "plot_states(fwd_path, fwd, 'Forward', state_names=state_names)\n",
    "plot_states(fwdbckwd_path, fwdbckwd, 'Forward-Backward', state_names=state_names)\n",
    "plot_states(vt_path, vt, 'Viterbi', state_names=state_names)\n"
   ]
  },
  {
   "cell_type": "code",
   "execution_count": null,
   "metadata": {},
   "outputs": [],
   "source": []
  }
 ],
 "metadata": {
  "kernelspec": {
   "display_name": "Python 3 (ipykernel)",
   "language": "python",
   "name": "python3"
  },
  "language_info": {
   "codemirror_mode": {
    "name": "ipython",
    "version": 3
   },
   "file_extension": ".py",
   "mimetype": "text/x-python",
   "name": "python",
   "nbconvert_exporter": "python",
   "pygments_lexer": "ipython3",
   "version": "3.8.5"
  }
 },
 "nbformat": 4,
 "nbformat_minor": 4
}
